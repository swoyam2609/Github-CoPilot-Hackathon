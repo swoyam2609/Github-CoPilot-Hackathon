{
 "cells": [
  {
   "cell_type": "code",
   "execution_count": 1,
   "metadata": {},
   "outputs": [],
   "source": [
    "import requests"
   ]
  },
  {
   "cell_type": "code",
   "execution_count": 3,
   "metadata": {},
   "outputs": [],
   "source": [
    "apiKey = \"cbbd367d7f203ce47a104e0da35e5a65\"\n",
    "city = \"Bhubaneswar\""
   ]
  },
  {
   "cell_type": "code",
   "execution_count": 4,
   "metadata": {},
   "outputs": [],
   "source": [
    "url = \"https://api.openweathermap.org/data/2.5/weather?q={}&appid={}\".format(city, apiKey)"
   ]
  },
  {
   "cell_type": "code",
   "execution_count": 5,
   "metadata": {},
   "outputs": [],
   "source": [
    "response = requests.get(url)"
   ]
  },
  {
   "cell_type": "code",
   "execution_count": 8,
   "metadata": {},
   "outputs": [],
   "source": [
    "result = response.json()"
   ]
  },
  {
   "cell_type": "code",
   "execution_count": 9,
   "metadata": {},
   "outputs": [
    {
     "data": {
      "text/plain": [
       "{'coord': {'lon': 85.8333, 'lat': 20.2333},\n",
       " 'weather': [{'id': 721,\n",
       "   'main': 'Haze',\n",
       "   'description': 'haze',\n",
       "   'icon': '50d'}],\n",
       " 'base': 'stations',\n",
       " 'main': {'temp': 309.27,\n",
       "  'feels_like': 316.27,\n",
       "  'temp_min': 309.27,\n",
       "  'temp_max': 309.27,\n",
       "  'pressure': 1006,\n",
       "  'humidity': 75},\n",
       " 'visibility': 4000,\n",
       " 'wind': {'speed': 4.63, 'deg': 190},\n",
       " 'clouds': {'all': 40},\n",
       " 'dt': 1685864057,\n",
       " 'sys': {'type': 1,\n",
       "  'id': 9113,\n",
       "  'country': 'IN',\n",
       "  'sunrise': 1685835376,\n",
       "  'sunset': 1685883229},\n",
       " 'timezone': 19800,\n",
       " 'id': 1275817,\n",
       " 'name': 'Bhubaneswar',\n",
       " 'cod': 200}"
      ]
     },
     "execution_count": 9,
     "metadata": {},
     "output_type": "execute_result"
    }
   ],
   "source": [
    "result"
   ]
  },
  {
   "cell_type": "code",
   "execution_count": 10,
   "metadata": {},
   "outputs": [],
   "source": [
    "weather = result['weather'][0]['main']\n",
    "currentTemp = result['main']['temp']\n",
    "minTemp = result['main']['temp_min']\n",
    "maxTemp = result['main']['temp_max']\n",
    "feelTemp = result['main']['feels_like']\n",
    "pressure = result['main']['pressure']\n",
    "humidity = result['main']['humidity']\n",
    "windSpeed = result['wind']['speed']"
   ]
  },
  {
   "cell_type": "code",
   "execution_count": null,
   "metadata": {},
   "outputs": [],
   "source": []
  }
 ],
 "metadata": {
  "kernelspec": {
   "display_name": "Python 3",
   "language": "python",
   "name": "python3"
  },
  "language_info": {
   "codemirror_mode": {
    "name": "ipython",
    "version": 3
   },
   "file_extension": ".py",
   "mimetype": "text/x-python",
   "name": "python",
   "nbconvert_exporter": "python",
   "pygments_lexer": "ipython3",
   "version": "3.11.3"
  },
  "orig_nbformat": 4
 },
 "nbformat": 4,
 "nbformat_minor": 2
}
